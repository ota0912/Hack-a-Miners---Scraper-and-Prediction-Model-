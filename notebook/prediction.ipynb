{
 "cells": [
  {
   "cell_type": "code",
   "execution_count": 1,
   "id": "38b1b0bd",
   "metadata": {},
   "outputs": [],
   "source": [
    "import pandas as pd\n",
    "from sklearn.linear_model import LinearRegression\n",
    "from sklearn.model_selection import train_test_split\n",
    "import matplotlib.pyplot as plt\n",
    "import matplotlib.ticker as ticker\n",
    "import numpy as np"
   ]
  },
  {
   "cell_type": "code",
   "execution_count": 2,
   "id": "ec22f40a",
   "metadata": {},
   "outputs": [],
   "source": [
    "df = pd.read_csv(\"../Web Scraper/compiled_report.csv\")"
   ]
  },
  {
   "attachments": {},
   "cell_type": "markdown",
   "id": "7e825587",
   "metadata": {},
   "source": [
    "##### Variables that will be provided by the user."
   ]
  },
  {
   "cell_type": "code",
   "execution_count": 3,
   "id": "1dbe9c13",
   "metadata": {},
   "outputs": [],
   "source": [
    "vaccine = 'BCG'\n",
    "state = 'Haryana'\n",
    "year = 2028"
   ]
  },
  {
   "attachments": {},
   "cell_type": "markdown",
   "id": "755d6a0a",
   "metadata": {},
   "source": [
    "##### Finding the rows that need to be analyzed."
   ]
  },
  {
   "cell_type": "code",
   "execution_count": 4,
   "id": "b1b50c88",
   "metadata": {},
   "outputs": [],
   "source": [
    "df = df[(df[\"VACCINE\"]==vaccine) & (df[\"STATE\"]==state)]"
   ]
  },
  {
   "attachments": {},
   "cell_type": "markdown",
   "id": "d4dfe83e",
   "metadata": {},
   "source": [
    "##### Creating a new dataframe for the provided parameters."
   ]
  },
  {
   "cell_type": "code",
   "execution_count": 5,
   "id": "64b8ef6d",
   "metadata": {},
   "outputs": [
    {
     "data": {
      "text/html": [
       "<div>\n",
       "<style scoped>\n",
       "    .dataframe tbody tr th:only-of-type {\n",
       "        vertical-align: middle;\n",
       "    }\n",
       "\n",
       "    .dataframe tbody tr th {\n",
       "        vertical-align: top;\n",
       "    }\n",
       "\n",
       "    .dataframe thead th {\n",
       "        text-align: right;\n",
       "    }\n",
       "</style>\n",
       "<table border=\"1\" class=\"dataframe\">\n",
       "  <thead>\n",
       "    <tr style=\"text-align: right;\">\n",
       "      <th></th>\n",
       "      <th>APPLICANTS</th>\n",
       "      <th>VACCINATED</th>\n",
       "      <th>YEAR</th>\n",
       "    </tr>\n",
       "  </thead>\n",
       "  <tbody>\n",
       "    <tr>\n",
       "      <th>258</th>\n",
       "      <td>541000</td>\n",
       "      <td>403576</td>\n",
       "      <td>2008</td>\n",
       "    </tr>\n",
       "    <tr>\n",
       "      <th>259</th>\n",
       "      <td>541000</td>\n",
       "      <td>448919</td>\n",
       "      <td>2009</td>\n",
       "    </tr>\n",
       "    <tr>\n",
       "      <th>260</th>\n",
       "      <td>550000</td>\n",
       "      <td>432164</td>\n",
       "      <td>2010</td>\n",
       "    </tr>\n",
       "    <tr>\n",
       "      <th>261</th>\n",
       "      <td>532000</td>\n",
       "      <td>406322</td>\n",
       "      <td>2011</td>\n",
       "    </tr>\n",
       "    <tr>\n",
       "      <th>262</th>\n",
       "      <td>537000</td>\n",
       "      <td>402237</td>\n",
       "      <td>2012</td>\n",
       "    </tr>\n",
       "  </tbody>\n",
       "</table>\n",
       "</div>"
      ],
      "text/plain": [
       "     APPLICANTS  VACCINATED  YEAR\n",
       "258      541000      403576  2008\n",
       "259      541000      448919  2009\n",
       "260      550000      432164  2010\n",
       "261      532000      406322  2011\n",
       "262      537000      402237  2012"
      ]
     },
     "execution_count": 5,
     "metadata": {},
     "output_type": "execute_result"
    }
   ],
   "source": [
    "df = df.drop(\"STATE\",axis = 1)\n",
    "df = df.drop(\"VACCINE\",axis = 1)\n",
    "df.head(5)"
   ]
  },
  {
   "cell_type": "code",
   "execution_count": 6,
   "id": "97fc09cb",
   "metadata": {},
   "outputs": [],
   "source": [
    "x = df[\"YEAR\"]\n",
    "y = df[\"APPLICANTS\"]\n",
    "z = df[\"VACCINATED\"]\n",
    "inp = np.copy(x)\n",
    "inp = inp.reshape(len(x),1)"
   ]
  },
  {
   "cell_type": "code",
   "execution_count": 7,
   "id": "c9096934",
   "metadata": {},
   "outputs": [],
   "source": [
    "output_cases = np.copy(y)\n",
    "output_vaccinated = np.copy(z)"
   ]
  },
  {
   "attachments": {},
   "cell_type": "markdown",
   "id": "5dc582c4",
   "metadata": {},
   "source": [
    "##### Defining the Linear Regression Models for the dataframe."
   ]
  },
  {
   "cell_type": "code",
   "execution_count": 8,
   "id": "5908bb15",
   "metadata": {},
   "outputs": [],
   "source": [
    "reg1 = LinearRegression().fit(inp, output_cases)#model for cases\n",
    "reg2 = LinearRegression().fit(inp, output_vaccinated)#model for vaccinated"
   ]
  },
  {
   "cell_type": "code",
   "execution_count": 9,
   "id": "184d816e",
   "metadata": {},
   "outputs": [],
   "source": [
    "x=x.to_list()\n",
    "y=y.to_list()\n",
    "z=z.to_list()"
   ]
  },
  {
   "attachments": {},
   "cell_type": "markdown",
   "id": "d1cce56e",
   "metadata": {},
   "source": [
    "##### Preciting the need that will arise in the following years"
   ]
  },
  {
   "cell_type": "code",
   "execution_count": 10,
   "id": "94d8ca99",
   "metadata": {
    "scrolled": true
   },
   "outputs": [],
   "source": [
    "prediction_data = {}\n",
    "last_year = x[-1]\n",
    "for i in range (last_year+1,year+1):\n",
    "    cases = int(np.trunc(reg1.predict([[i]])))\n",
    "    prediction_data[i] = [cases]\n",
    "    x.append(i)\n",
    "    y.append(cases)"
   ]
  },
  {
   "attachments": {},
   "cell_type": "markdown",
   "id": "31eec4a4",
   "metadata": {},
   "source": [
    "##### Predicting the years increase in vaccinations required to complete the goal."
   ]
  },
  {
   "cell_type": "code",
   "execution_count": 11,
   "id": "f01c29e3",
   "metadata": {},
   "outputs": [
    {
     "data": {
      "text/plain": [
       "{2020: [568758, 432768],\n",
       " 2021: [571654, 452663],\n",
       " 2022: [574550, 472558],\n",
       " 2023: [577446, 492453],\n",
       " 2024: [580343, 512348],\n",
       " 2025: [583239, 532243],\n",
       " 2026: [586135, 552138],\n",
       " 2027: [589031, 572033],\n",
       " 2028: [591928, 591928]}"
      ]
     },
     "execution_count": 11,
     "metadata": {},
     "output_type": "execute_result"
    }
   ],
   "source": [
    "yearly_increase = int((prediction_data[year][0]-z[-1])/(year-last_year))\n",
    "itr = z[-1]\n",
    "for i in range(last_year+1,year+1):\n",
    "    itr += yearly_increase\n",
    "    z.append(itr)\n",
    "    prediction_data[i].append(itr)\n",
    "prediction_data"
   ]
  },
  {
   "attachments": {},
   "cell_type": "markdown",
   "id": "82b48ff1",
   "metadata": {},
   "source": [
    "##### Predicting the year we will react the goal at current speed."
   ]
  },
  {
   "cell_type": "code",
   "execution_count": 12,
   "metadata": {},
   "outputs": [
    {
     "name": "stdout",
     "output_type": "stream",
     "text": [
      "Expected to meet at Infinity\n"
     ]
    }
   ],
   "source": [
    "meet = \"Infinity\"\n",
    "for i in range(last_year+1,3000):\n",
    "    curr_cases = int(np.trunc(reg1.predict([[i]]))) \n",
    "    curr_vacc = int(np.trunc(reg2.predict([[i]])))\n",
    "    if(curr_vacc>=curr_cases):\n",
    "        meet = i\n",
    "print(f\"Expected to meet at {meet}\")"
   ]
  },
  {
   "attachments": {},
   "cell_type": "markdown",
   "id": "83871df6",
   "metadata": {},
   "source": [
    "##### Plotting the graph for future predictions."
   ]
  },
  {
   "cell_type": "code",
   "execution_count": 13,
   "id": "cdad5c96",
   "metadata": {},
   "outputs": [
    {
     "data": {
      "text/plain": [
       "[Text(0.5, 1.0, 'Haryana report of BCG'),\n",
       " Text(0.5, 0, 'Year'),\n",
       " Text(0, 0.5, 'Cases every year')]"
      ]
     },
     "execution_count": 13,
     "metadata": {},
     "output_type": "execute_result"
    },
    {
     "data": {
      "image/png": "[encoded data removed]",
      "text/plain": [
       "<Figure size 800x500 with 1 Axes>"
      ]
     },
     "metadata": {},
     "output_type": "display_data"
    }
   ],
   "source": [
    "fig,ax = plt.subplots(figsize=(8,5))\n",
    "x = np.array(x)\n",
    "ax.plot(x,y)\n",
    "ax.plot(x,z)\n",
    "\n",
    "locator = ticker.MultipleLocator(2)\n",
    "plt.gca().xaxis.set_major_locator(locator)\n",
    "formatter = ticker.StrMethodFormatter(\"{x:.0f}\")\n",
    "plt.gca().xaxis.set_major_formatter(formatter)\n",
    "\n",
    "ax.set(title = f\"{state} report of {vaccine}\",xlabel = \"Year\",ylabel = \"Cases every year\")"
   ]
  }
 ],
 "metadata": {
  "kernelspec": {
   "display_name": "Python 3.11.1 64-bit",
   "language": "python",
   "name": "python3"
  },
  "language_info": {
   "codemirror_mode": {
    "name": "ipython",
    "version": 3
   },
   "file_extension": ".py",
   "mimetype": "text/x-python",
   "name": "python",
   "nbconvert_exporter": "python",
   "pygments_lexer": "ipython3",
   "version": "3.11.5"
  },
  "vscode": {
   "interpreter": {
    "hash": "0de99046e83833e79e1220c4703e1f23d6205814be75ac1737a4c544f1bb6683"
   }
  }
 },
 "nbformat": 4,
 "nbformat_minor": 5
}
