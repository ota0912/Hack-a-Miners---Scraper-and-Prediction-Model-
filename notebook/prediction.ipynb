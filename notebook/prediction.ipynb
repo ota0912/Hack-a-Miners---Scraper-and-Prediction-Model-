{
 "cells": [
  {
   "cell_type": "code",
   "execution_count": null,
   "id": "38b1b0bd",
   "metadata": {},
   "outputs": [],
   "source": [
    "import pandas as pd\n",
    "from sklearn.linear_model import LinearRegression\n",
    "from sklearn.model_selection import train_test_split\n",
    "import matplotlib.pyplot as plt\n",
    "import matplotlib.ticker as ticker\n",
    "import numpy as np"
   ]
  },
  {
   "cell_type": "code",
   "execution_count": null,
   "id": "ec22f40a",
   "metadata": {},
   "outputs": [],
   "source": [
    "df = pd.read_csv(\"../Web Scraper/compiled_report.csv\")"
   ]
  },
  {
   "attachments": {},
   "cell_type": "markdown",
   "id": "7e825587",
   "metadata": {},
   "source": [
    "##### Variables that will be provided by the user."
   ]
  },
  {
   "cell_type": "code",
   "execution_count": null,
   "id": "1dbe9c13",
   "metadata": {},
   "outputs": [],
   "source": [
    "vaccine = 'BCG'\n",
    "state = 'Haryana'\n",
    "year = 2028"
   ]
  },
  {
   "attachments": {},
   "cell_type": "markdown",
   "id": "755d6a0a",
   "metadata": {},
   "source": [
    "##### Finding the rows that need to be analyzed."
   ]
  },
  {
   "cell_type": "code",
   "execution_count": null,
   "id": "b1b50c88",
   "metadata": {},
   "outputs": [],
   "source": [
    "df = df[(df[\"VACCINE\"]==vaccine) & (df[\"STATE\"]==state)]"
   ]
  },
  {
   "attachments": {},
   "cell_type": "markdown",
   "id": "d4dfe83e",
   "metadata": {},
   "source": [
    "##### Creating a new dataframe for the provided parameters."
   ]
  },
  {
   "cell_type": "code",
   "execution_count": null,
   "id": "64b8ef6d",
   "metadata": {},
   "outputs": [],
   "source": [
    "df = df.drop(\"STATE\",axis = 1)\n",
    "df = df.drop(\"VACCINE\",axis = 1)\n",
    "df"
   ]
  },
  {
   "cell_type": "code",
   "execution_count": null,
   "id": "97fc09cb",
   "metadata": {},
   "outputs": [],
   "source": [
    "x = df[\"YEAR\"]\n",
    "y = df[\"APPLICANTS\"]\n",
    "z = df[\"VACCINATED\"]\n",
    "inp = np.copy(x)\n",
    "inp = inp.reshape(len(x),1)"
   ]
  },
  {
   "cell_type": "code",
   "execution_count": null,
   "id": "c9096934",
   "metadata": {},
   "outputs": [],
   "source": [
    "output_cases = np.copy(y)\n",
    "output_vaccinated = np.copy(z)"
   ]
  },
  {
   "attachments": {},
   "cell_type": "markdown",
   "id": "5dc582c4",
   "metadata": {},
   "source": [
    "##### Defining the Linear Regression Models for the dataframe."
   ]
  },
  {
   "cell_type": "code",
   "execution_count": null,
   "id": "5908bb15",
   "metadata": {},
   "outputs": [],
   "source": [
    "reg1 = LinearRegression().fit(inp, output_cases)#model for cases\n",
    "reg2 = LinearRegression().fit(inp, output_vaccinated)#model for vaccinated"
   ]
  },
  {
   "cell_type": "code",
   "execution_count": null,
   "id": "184d816e",
   "metadata": {},
   "outputs": [],
   "source": [
    "x=x.to_list()\n",
    "y=y.to_list()\n",
    "z=z.to_list()"
   ]
  },
  {
   "attachments": {},
   "cell_type": "markdown",
   "id": "d1cce56e",
   "metadata": {},
   "source": [
    "##### Preciting the need that will arise in the following years"
   ]
  },
  {
   "cell_type": "code",
   "execution_count": null,
   "id": "94d8ca99",
   "metadata": {
    "scrolled": true
   },
   "outputs": [],
   "source": [
    "prediction_data = {}\n",
    "last_year = x[-1]\n",
    "for i in range (last_year+1,year+1):\n",
    "    cases = int(np.trunc(reg1.predict([[i]])))\n",
    "    prediction_data[i] = [cases]\n",
    "    x.append(i)\n",
    "    y.append(cases)"
   ]
  },
  {
   "attachments": {},
   "cell_type": "markdown",
   "id": "31eec4a4",
   "metadata": {},
   "source": [
    "##### Predicting the years increase in vaccinations required to complete the goal."
   ]
  },
  {
   "cell_type": "code",
   "execution_count": null,
   "id": "f01c29e3",
   "metadata": {},
   "outputs": [],
   "source": [
    "yearly_increase = int((prediction_data[year][0]-z[-1])/(year-last_year))\n",
    "itr = z[-1]\n",
    "for i in range(last_year+1,year+1):\n",
    "    itr += yearly_increase\n",
    "    z.append(itr)\n",
    "    prediction_data[i].append(itr)\n",
    "prediction_data"
   ]
  },
  {
   "attachments": {},
   "cell_type": "markdown",
   "id": "82b48ff1",
   "metadata": {},
   "source": [
    "##### Predicting the year we will react the goal at current speed."
   ]
  },
  {
   "cell_type": "code",
   "execution_count": null,
   "metadata": {},
   "outputs": [],
   "source": [
    "meet = \"Infinity\"\n",
    "for i in range(last_year+1,3000):\n",
    "    curr_cases = int(np.trunc(reg1.predict([[i]]))) \n",
    "    curr_vacc = int(np.trunc(reg2.predict([[i]])))\n",
    "    if(curr_vacc>=curr_cases):\n",
    "        meet = i\n",
    "print(f\"Expected to meet at {meet}\")"
   ]
  },
  {
   "attachments": {},
   "cell_type": "markdown",
   "id": "83871df6",
   "metadata": {},
   "source": [
    "##### Plotting the graph for future predictions."
   ]
  },
  {
   "cell_type": "code",
   "execution_count": null,
   "id": "cdad5c96",
   "metadata": {},
   "outputs": [],
   "source": [
    "fig,ax = plt.subplots(figsize=(8,5))\n",
    "x = np.array(x)\n",
    "ax.plot(x,y)\n",
    "ax.plot(x,z)\n",
    "\n",
    "locator = ticker.MultipleLocator(2)\n",
    "plt.gca().xaxis.set_major_locator(locator)\n",
    "formatter = ticker.StrMethodFormatter(\"{x:.0f}\")\n",
    "plt.gca().xaxis.set_major_formatter(formatter)\n",
    "\n",
    "ax.set(title = f\"{state} report of {vaccine}\",xlabel = \"Year\",ylabel = \"Cases every year\")"
   ]
  }
 ],
 "metadata": {
  "kernelspec": {
   "display_name": "Python 3.11.1 64-bit",
   "language": "python",
   "name": "python3"
  },
  "language_info": {
   "codemirror_mode": {
    "name": "ipython",
    "version": 3
   },
   "file_extension": ".py",
   "mimetype": "text/x-python",
   "name": "python",
   "nbconvert_exporter": "python",
   "pygments_lexer": "ipython3",
   "version": "3.11.1"
  },
  "vscode": {
   "interpreter": {
    "hash": "0de99046e83833e79e1220c4703e1f23d6205814be75ac1737a4c544f1bb6683"
   }
  }
 },
 "nbformat": 4,
 "nbformat_minor": 5
}
